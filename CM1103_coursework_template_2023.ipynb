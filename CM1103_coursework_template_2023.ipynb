{
 "cells": [
  {
   "cell_type": "code",
   "execution_count": 232,
   "metadata": {},
   "outputs": [],
   "source": [
    "# You may add additional imports here\n",
    "import random\n",
    "import matplotlib.pyplot as plt\n",
    "import csv"
   ]
  },
  {
   "cell_type": "markdown",
   "metadata": {},
   "source": [
    "Question 1\n",
    "==========\n",
    "\n",
    "All parts of Question 1 use the _point-a-rally (PARS) scoring_ system.\n",
    "\n",
    "**Question 1a:** Complete the following function so that it implements the PARS algorithm from the coursework specification.\n",
    "\n",
    "**[Functionality: 7 marks]**"
   ]
  },
  {
   "cell_type": "code",
   "execution_count": 233,
   "metadata": {},
   "outputs": [],
   "source": [
    "def game(ra, rb):\n",
    "    score_a = 0\n",
    "    score_b = 0\n",
    "    probability_a = ra/(ra + rb)\n",
    "    while True:\n",
    "        rand_num = random.random()\n",
    "        if rand_num > probability_a:\n",
    "            score_b += 1\n",
    "        else:\n",
    "            score_a += 1\n",
    "\n",
    "        if (score_a > 10 or score_b > 10) and (abs(score_a - score_b) > 1):\n",
    "            break\n",
    "    return score_a, score_b\n",
    "\n",
    "        \n",
    "\n",
    "    \n",
    "\n"
   ]
  },
  {
   "cell_type": "markdown",
   "metadata": {},
   "source": [
    "**Testing:** If the random seed is set to 57, then calling the function with arguments `70` and `30` should return `(11,5)`."
   ]
  },
  {
   "cell_type": "code",
   "execution_count": 234,
   "metadata": {},
   "outputs": [
    {
     "name": "stdout",
     "output_type": "stream",
     "text": [
      "(11, 5)\n"
     ]
    }
   ],
   "source": [
    "random.seed(57)\n",
    "print(game(70, 30))"
   ]
  },
  {
   "cell_type": "markdown",
   "metadata": {},
   "source": [
    "**Question 1b:** Complete the following function `win_probability_game(ra, rb, simulations)` to simulate `simulations` games in order to estimate the probability that a player with ability `ra` will win a game against a player of ability `rb`.\n",
    "\n",
    "**[Functionality: 4 marks]**"
   ]
  },
  {
   "cell_type": "code",
   "execution_count": 235,
   "metadata": {},
   "outputs": [],
   "source": [
    "def win_probability_game(ra, rb, simulations):\n",
    "    a_wins = 0\n",
    "    for val in range(simulations):\n",
    "        score = game(ra, rb)\n",
    "        if score[0] > score[1]:\n",
    "            a_wins += 1\n",
    "    return a_wins/simulations"
   ]
  },
  {
   "cell_type": "markdown",
   "metadata": {},
   "source": [
    "**Testing:** Given sufficient simulations, calling the function with abilities `70` and `30` should give the answer `0.98` when printed to 2 decimal places."
   ]
  },
  {
   "cell_type": "code",
   "execution_count": 236,
   "metadata": {},
   "outputs": [
    {
     "name": "stdout",
     "output_type": "stream",
     "text": [
      "0.98\n"
     ]
    }
   ],
   "source": [
    "# Print win_probability_game(70, 30) to 2 decimal places for a suitable value of n:\n",
    "print(round(win_probability_game(70, 30,1000), 2))"
   ]
  },
  {
   "cell_type": "markdown",
   "metadata": {},
   "source": [
    "**Question 1c:** Assume players abilities are given in a csv file with the format:\n",
    "```\n",
    "player a ability, player b ability,\n",
    "60, 20,\n",
    "100, 55,\n",
    "50, 40,\n",
    "20, 70,\n",
    "95, 85,\n",
    "```\n",
    "Complete the following function to read in a specified csv file of this format and return a `list` of `tuple`s containing each pair of abilities.\n",
    "\n",
    "**[Functionality: 4 marks]**"
   ]
  },
  {
   "cell_type": "code",
   "execution_count": 237,
   "metadata": {},
   "outputs": [],
   "source": [
    "def read_abilities(file): # HINT: what should the argument be?\n",
    "    ability_tup = []\n",
    "    with open(file, mode = 'r') as ability_file:\n",
    "        csvFile = csv.reader(ability_file)\n",
    "        next(csvFile)\n",
    "        for line in csvFile:\n",
    "            ability_tup.append((int(line[0]), int(line[1])))\n",
    "    return ability_tup"
   ]
  },
  {
   "cell_type": "markdown",
   "metadata": {},
   "source": [
    "**Testing:** Calling the function to read the file `test.csv` from Learning Central should return `[(60, 20), (100, 55), (50, 40), (20, 70), (95, 85)]`"
   ]
  },
  {
   "cell_type": "code",
   "execution_count": 238,
   "metadata": {},
   "outputs": [
    {
     "data": {
      "text/plain": [
       "[(60, 20), (100, 55), (50, 40), (20, 70), (95, 85)]"
      ]
     },
     "execution_count": 238,
     "metadata": {},
     "output_type": "execute_result"
    }
   ],
   "source": [
    "read_abilities(\"test.csv\")# Print the result of calling the function for the file `test.csv`"
   ]
  },
  {
   "cell_type": "markdown",
   "metadata": {},
   "source": [
    "**Question 1d:** Write a function that takes a `list` of the format returned by your answer to 1c as an argument, and uses `matplotlib` to produce a plot (with labelled axes) showing the probability that player a beats player b (in a game) against `ra / r_b` for each pair.\n",
    "\n",
    "**[Functionality: 5 marks]**"
   ]
  },
  {
   "cell_type": "code",
   "execution_count": 239,
   "metadata": {},
   "outputs": [],
   "source": [
    "def plot_win_probabilities(output): # HINT: what should the argument be?\n",
    "    x_vals = [] \n",
    "    y_vals = []\n",
    "    for x in output:\n",
    "        x_vals.append(x[0]/x[1])\n",
    "\n",
    "    for y in output:\n",
    "        y_vals.append(win_probability_game(y[0], y[1], 100))\n",
    "    plt.scatter(x_vals, y_vals)\n",
    "    plt.xlabel(\"ra/rb\")\n",
    "    plt.ylabel(\"Probability a wins\")"
   ]
  },
  {
   "cell_type": "markdown",
   "metadata": {},
   "source": [
    "**Testing:** The following figure (or similar) should result from the data `[(60, 20), (100, 55), (50, 40), (20, 70), (95, 85)]'\n",
    "\n",
    "<img src=\"./win_probabilities.png\" alt=\"Win probabilities\" width=\"500\">\n"
   ]
  },
  {
   "cell_type": "code",
   "execution_count": 240,
   "metadata": {},
   "outputs": [
    {
     "data": {
      "image/png": "[encoded data removed]",
      "text/plain": [
       "<Figure size 640x480 with 1 Axes>"
      ]
     },
     "metadata": {},
     "output_type": "display_data"
    }
   ],
   "source": [
    "plot_win_probabilities(read_abilities(\"test.csv\"))# Call the function to plot the figure here"
   ]
  },
  {
   "cell_type": "markdown",
   "metadata": {},
   "source": [
    "**Question 1e:** Complete the following function `win_probability_match(ra, rb, simulations, m)` to simulate `simulations` matches which are won by the first player to win `m` games, and returns an estimate of the probability that a player with ability `ra` will win such a match against a player of ability `rb`.\n",
    "\n",
    "Provide code that works out the smallest value of `m` such that `win_probability_match(60, 40, simulations, m)` is at least `0.9`. \n",
    "\n",
    "_HINT: make sure you use an appropriate value for `simulations`._\n",
    "\n",
    "**[Functionality: 5 marks]**"
   ]
  },
  {
   "cell_type": "code",
   "execution_count": 241,
   "metadata": {},
   "outputs": [
    {
     "data": {
      "text/plain": [
       "0.932"
      ]
     },
     "execution_count": 241,
     "metadata": {},
     "output_type": "execute_result"
    }
   ],
   "source": [
    "def win_probability_match(ra, rb, simulations, m):\n",
    "    a_match = 0\n",
    "    b_match = 0\n",
    "\n",
    "    for match in range(simulations):\n",
    "        a_game = 0\n",
    "        b_game = 0\n",
    "        while a_game < m and b_game < m:\n",
    "            score = game(ra, rb)\n",
    "            if score[0] > score[1]:\n",
    "                a_game +=1\n",
    "            elif score[0] < score[1]:\n",
    "                b_game +=1\n",
    "        if a_game > b_game:\n",
    "            a_match += 1\n",
    "        elif a_game < b_game:\n",
    "            b_match += 1\n",
    "        \n",
    "    \n",
    "    p = (a_match/(a_match + b_match))\n",
    "    return p\n",
    "\n",
    "win_probability_match(60,40,1000,2)\n"
   ]
  },
  {
   "cell_type": "markdown",
   "metadata": {},
   "source": [
    "Question 2\n",
    "==========\n",
    "\n",
    "Complete the remaining template of a scientific report that uses the results of simulation (with suitable input data) to investigate whether English or PARS is the ``better'' scoring method for squash matches. \n",
    "\n",
    "You should clearly state any assumptions you make, and may add any number of code cells. Guidance for completing the markdown/text cells is given in the coursework specification. The word count of the remaining markdown/text cells must be at most 750.\n",
    "\n",
    "Your investigation should consider the relative ability of the two players (i.e. `ra/rb`) as the _independent variable_ and include appropriate figures that show how your choice of relevant _dependent variable_ varies. Your results **must** cover at least 50 different values of `ra/rb`.\n",
    "\n",
    "Some starting points you may consider:\n",
    "- How _fair_ is the scoring method - does the better player usually win? English - no, PARS - yes\n",
    "- Shorter matches are usually preferable (e.g. for television) - if you assume each rally in a match takes equal time, how long do matches typically last?\n",
    "- What effect does the relative ability of the two players have?\n",
    "\n",
    "**[Report: 7 marks; Achievement: 8 marks]**"
   ]
  },
  {
   "cell_type": "code",
   "execution_count": 242,
   "metadata": {},
   "outputs": [
    {
     "data": {
      "text/plain": [
       "(9, 1, 20)"
      ]
     },
     "execution_count": 242,
     "metadata": {},
     "output_type": "execute_result"
    }
   ],
   "source": [
    "import random\n",
    "\n",
    "def english_algo(ra,rb):\n",
    "    \n",
    "    points_a = 0\n",
    "    points_b = 0\n",
    "    a_serve = True\n",
    "    rally = 0\n",
    "\n",
    "    while (points_a < 9) and (points_b < 9):\n",
    "        rally += 1\n",
    "        probability = random.random()\n",
    "        if a_serve:\n",
    "            if probability < ra/(ra + rb):\n",
    "                points_a += 1\n",
    "                \n",
    "            else:\n",
    "                a_serve = False\n",
    "    \n",
    "        else:\n",
    "            if probability < rb/(ra + rb):\n",
    "                points_b += 1\n",
    "                \n",
    "            else:\n",
    "                a_serve = True\n",
    "       \n",
    "        \n",
    "    return points_a, points_b, rally\n",
    "    \n",
    "\n",
    "             \n",
    "english_algo(0.6,0.4)\n",
    "        "
   ]
  },
  {
   "cell_type": "markdown",
   "metadata": {},
   "source": [
    "## Problem"
   ]
  },
  {
   "cell_type": "markdown",
   "metadata": {},
   "source": [
    "This report investigates the 2 main scoring systems of squash: PARS and English, in an attempt to discern which of the 2 are superior. Superiority in this context can be measured through the following metrics: Duration and intensity of the game, as well as competitive balance (does the \"better\" player usually win?)."
   ]
  },
  {
   "cell_type": "markdown",
   "metadata": {},
   "source": [
    "## Method"
   ]
  },
  {
   "cell_type": "markdown",
   "metadata": {},
   "source": [
    "Testing the metrics outlined above can be done using simulated empirical data. A scatter plot can be used to model the average game length between English and PARS, and distribution of points to account for the difference in the way points are awarded. Both the PARS, and English game simulations consider the abilities of both players - and the competitive balance, and percieved service advantage can also be modelled using a scatter plot. For a given players ability ra and opponent's ability rb - the same values will be used to simulate games under both the PARS and English system to compare point distribution, and how the scoring systems influence the dynamics of the game. The simulations will consider players of varying abilities using randomly generated values of ra and rb. "
   ]
  },
  {
   "cell_type": "markdown",
   "metadata": {},
   "source": [
    "The following code is used to model the competitive balance of the 2 scoring systems. 100 values of ra, and rb are randomly generated and used to simulate 2000 games of squash using both scoring systems. The probability a wins each game is individually calculated, and plotted alongside the ratio of ra/rb (difference in abilities). "
   ]
  },
  {
   "cell_type": "code",
   "execution_count": 243,
   "metadata": {},
   "outputs": [],
   "source": [
    "\n",
    "import matplotlib\n",
    "\n",
    "def win_probability_eng_game(ra, rb, simulations):\n",
    "    a_wins = 0\n",
    "    for val in range(simulations):\n",
    "        score = english_algo(ra, rb)\n",
    "        if score[0] > score[1]:\n",
    "            a_wins += 1\n",
    "    return a_wins/simulations #Calculating the percentage of games player a wins\n",
    "\n",
    "def generate_abilities(): \n",
    "    pairs = [(random.randint(1, 100), random.randint(1, 100)) for _ in range(100)] #100 randomly simulated values for ra and rb\n",
    "    return pairs\n",
    "\n",
    "\n",
    "\n",
    "def plot_win_probabilities(output): \n",
    "    x_vals = [] \n",
    "    y_vals = []\n",
    "    x_envals = []\n",
    "    y_envals = []\n",
    "    \n",
    "    for x in output:\n",
    "        x_vals.append(x[0]/x[1])\n",
    "\n",
    "    for i in output:\n",
    "        x_envals.append(i[0]/i[1])\n",
    "\n",
    "    for j in output:\n",
    "        y_envals.append(win_probability_eng_game(j[0], j[1], 2000)) #Simulates 2000 english games\n",
    "\n",
    "    for y in output:\n",
    "        y_vals.append(win_probability_game(y[0], y[1], 2000)) #Simulates 2000 PARS games\n",
    "\n",
    "    fig, ax = plt.subplots()\n",
    "    ax.scatter(x_vals, y_vals, label = \"PARS\")\n",
    "    ax.scatter(x_envals, y_envals, label = \"English\", marker = \"s\", color = \"r\")\n",
    "    plt.xlim(0,3)\n",
    "    ax.set_xlabel(\"ra/rb\")\n",
    "    ax.set_ylabel(\"Probability a wins\")\n",
    "    ax.set_title(\"PARS vs English Competitive Balance\")\n",
    "    ax.legend()\n",
    "    plt.show()\n",
    "\n",
    "#plot_win_probabilities(generate_abilities())"
   ]
  },
  {
   "cell_type": "markdown",
   "metadata": {},
   "source": [
    "The function Plot_Rallies is used to model the duration of each game with respect to the players's abilities. The rally counter is incremented as points are awarded or serves are played. At the end of each game, the number of rallies is calculated and added to an array which is then returned when the simulated number of games has been met. The number of rallies per game is then plotted alongside the respective ra, and rb values corresponding to each game. For the sake of conciseness, only 100 games were simulated."
   ]
  },
  {
   "cell_type": "code",
   "execution_count": 244,
   "metadata": {},
   "outputs": [],
   "source": [
    "def PAR_Game(ra,rb):\n",
    "    score_a = 0\n",
    "    score_b = 0\n",
    "    probability_a = ra/(ra + rb)\n",
    "    rally = 0\n",
    "    while True:\n",
    "        \n",
    "        rand_num = random.random()\n",
    "        if rand_num > probability_a:\n",
    "            score_b += 1\n",
    "            rally += 1\n",
    "        else:\n",
    "            score_a += 1\n",
    "            rally += 1\n",
    "\n",
    "        if (score_a > 10 or score_b > 10) and (abs(score_a - score_b) > 1):\n",
    "            break\n",
    "    return rally\n",
    "\n",
    "def PAR_Rallies(ra,rb,simulations):\n",
    "    rally_count_vals = []\n",
    "    for _ in range(simulations):\n",
    "        rally_count = PAR_Game(ra,rb)\n",
    "        rally_count_vals.append(rally_count)\n",
    "\n",
    "    return rally_count_vals\n",
    "\n",
    "def Eng_Rallies(ra,rb,simulations):\n",
    "    rally_count_vals = []\n",
    "    for _ in range(simulations):\n",
    "        rally_count = english_algo(ra,rb)[2]\n",
    "        rally_count_vals.append(rally_count)\n",
    "\n",
    "    return rally_count_vals\n",
    "\n",
    "def Plot_Rallies(output):\n",
    "    x_PAR = []\n",
    "    x_eng = []\n",
    "    y_PAR = []\n",
    "    y_eng = []\n",
    "\n",
    "    for xP in output:\n",
    "        x_PAR.append(xP[0]/xP[1])\n",
    "    \n",
    "    for xE in output:\n",
    "        x_eng.append(xE[0]/xE[1])\n",
    "\n",
    "    for yP in output:\n",
    "        y_PAR.append(PAR_Rallies(yP[0], yP[1], 1))\n",
    "\n",
    "    for yE in output:\n",
    "        y_eng.append(Eng_Rallies(yE[0], yE[1], 1))\n",
    "    \n",
    "    y_PAR_vals = [value for val in y_PAR for value in val]\n",
    "    y_eng_vals = [value for val in y_eng for value in val]\n",
    "\n",
    "\n",
    "    fig, ax = plt.subplots()\n",
    "    ax.scatter(x_PAR, y_PAR_vals, label = \"PARS\")\n",
    "    ax.scatter(x_eng, y_eng_vals, label = \"English\", marker = \"s\", color = \"r\")\n",
    "    ax.set_xlabel(\"ra/rb\")\n",
    "    plt.xlim(0,5)\n",
    "    ax.set_ylabel(\"No. of rallies/game\")\n",
    "    ax.set_title(\"PARS vs English Game Duration\")\n",
    "    ax.legend()\n",
    "    plt.show()\n",
    "\n",
    "#Plot_Rallies(generate_abilities())\n"
   ]
  },
  {
   "cell_type": "markdown",
   "metadata": {},
   "source": [
    "## Assumptions"
   ]
  },
  {
   "cell_type": "markdown",
   "metadata": {},
   "source": [
    "Simulated games relying on arbitrary player abilities do not reflect an actual player's stamina or fitness level. Therefore, it cannot account for decreasing stamina levels, nor varying playing styles such as defensive play intent on exhausting the opponent. Playing styles for PARS and the English system are very different; English rules allow a player to maintain a consistent lead over another player based on the way points are awarded per rally. This is not possible under PARS rules as ralleys are more offensive, and points are always awarded for winning service. A simulation can neither discern these differences in play, nor account for idiosyncrasies of humans such as stamina, or other health issues/quirks. A human player is also physically incapable of playing several games back to back with no breaks which the algorithms assume is feasible. "
   ]
  },
  {
   "cell_type": "markdown",
   "metadata": {},
   "source": [
    "## Results"
   ]
  },
  {
   "cell_type": "markdown",
   "metadata": {},
   "source": [
    "![Alt text](image.png)\n",
    "\n",
    "The graph appears to suggest that there is very little deviation between the English and PARS scoring systems. Player a appears to be equally likely to win a game when their opponent player b's abilities closely match theirs. Naturally, player a's prospects of winning a game increase as their ability outranks player b's. However, player a appears to have a very slight advantage if the scoring system is set to English and they are more adept than player b (ra/rb > 1). This may be because it is much easier to maintain a winning lead under English rules as points are only awarded to the server of each rally. Nevertheless, this slight advantage is difficult to replicate in actual matches since players are rarely significantly better than their opponent."
   ]
  },
  {
   "attachments": {
    "image.png": {
     "image/png": "[encoded data removed]"
    }
   },
   "cell_type": "markdown",
   "metadata": {},
   "source": [
    "![image.png](attachment:image.png)\n",
    "\n",
    "There is no clear linear correlation between the length of each game, and the abilities of both players. However, the data from both the PARS and English systems roughly resemble a bell curve. As ra/rb approaches 1, the data points rise upwards - suggesting that games last longer when the players are of similar ability. As ra/rb exceeds 1 the data points tend towards 0 which implies games are much shorter when one player is substantially better than the other. Despite all of this, the data trend for the PARS system is less steep - implying that game duration is generally more consistent than English ones. Assuming rallies take on average 2 minutes each, most PARS games finish within 25 - 45 minutes whereas an English game may vary from 20 - 80 minutes using the same logic. Naturally rallies are not consistent in duration, and will fluctuate with the players's stamina. Inspite this, English games are still likely to last longer than PARS ones - it is harder, and takes longer to score points as they are only awarded to the server (hence, the higher rally count). There appears to be little difference in game duration when ra/rb is greater than 2, however this is highly unrealistic in a professional context.  "
   ]
  },
  {
   "cell_type": "markdown",
   "metadata": {},
   "source": [
    "## Conclusions"
   ]
  },
  {
   "cell_type": "markdown",
   "metadata": {},
   "source": [
    "The results suggest that there is no significant differences between the 2 scoring systems and their impact on gameplay or likelihood of winning. Though it should be noted that longer games are regarded to be less entertaining, and can potentially impact a player's ability of winning a game.  From a theoretical standpoint, neither scoring system maintains a strong sense of superiority over the other. However, in reality game dynamics are less predictable, and shorter games are generally preferred over long ones. This primarily targets the English scoring system which has actually fallen out of favour in professional squash as a result."
   ]
  }
 ],
 "metadata": {
  "interpreter": {
   "hash": "183b6f3dd52b9ae2bd385afe1588cc6cf56d78005d888e2b09b3c195f16f84ec"
  },
  "kernelspec": {
   "display_name": "Python 3.9.1 64-bit ('base': conda)",
   "name": "python3"
  },
  "language_info": {
   "codemirror_mode": {
    "name": "ipython",
    "version": 3
   },
   "file_extension": ".py",
   "mimetype": "text/x-python",
   "name": "python",
   "nbconvert_exporter": "python",
   "pygments_lexer": "ipython3",
   "version": "3.12.0"
  },
  "orig_nbformat": 4
 },
 "nbformat": 4,
 "nbformat_minor": 2
}
